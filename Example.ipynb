{
 "metadata": {
  "name": "",
  "signature": "sha256:14b3a0a9d51745b301f2d9461567144b48109c111834cb31d0e86a0e95fbeafd"
 },
 "nbformat": 3,
 "nbformat_minor": 0,
 "worksheets": [
  {
   "cells": [
    {
     "cell_type": "code",
     "collapsed": false,
     "input": [
      "import pycamb"
     ],
     "language": "python",
     "metadata": {},
     "outputs": [],
     "prompt_number": 1
    },
    {
     "cell_type": "code",
     "collapsed": false,
     "input": [
      "%pylab inline"
     ],
     "language": "python",
     "metadata": {},
     "outputs": [
      {
       "output_type": "stream",
       "stream": "stdout",
       "text": [
        "Populating the interactive namespace from numpy and matplotlib\n"
       ]
      }
     ],
     "prompt_number": 2
    },
    {
     "cell_type": "code",
     "collapsed": false,
     "input": [
      "print pycamb.__doc__"
     ],
     "language": "python",
     "metadata": {},
     "outputs": [
      {
       "output_type": "stream",
       "stream": "stdout",
       "text": [
        " \n",
        "To use camb, define a PyCamb object with\n",
        "  camb = PyCamb (**kwargs)\n",
        "\n",
        "  the following **kwargs are accepted\n",
        "  N_ps [i:1] number of spectra (P%InitPower%nn)\n",
        "omegab [f:0.0464] Omega Baryon (P%omegab)\n",
        "omegac [f:0.235] Omega Dark Mater (P%omegac)\n",
        "omegav [f:0.7186] Omega Vaccum (P%omegav)\n",
        "omegan [f:0] Omega Neutrino (P%omegan)\n",
        "omegak [f:0] Omega Curvature (P%omegak)\n",
        "H0 [f:69.7] Hubble Parameter in Km/s/Mpc (P%H0)\n",
        "TCMB [f:2.72548] CMB Temperature in K (P%TCMB)\n",
        "yhe [f:0.24] helium fraction (P%yhe)\n",
        "NonLinear [i:0] Method of Non Linear evolution, 0(None), 1(PK), 2(Lens) (P%NonLinear)\n",
        "N_nu_massless [f:3.04] neutrino massless (P%Num_Nu_massless)\n",
        "N_nu_massive [f:0] neutrino masssive (P%Num_Nu_massive)\n",
        "Reion [b:True] reionization (P%Reion%Reionization)\n",
        "z_reion [f:10.36] reionization redshift (P%Reion%redshift)\n",
        "f_reion [f:None] reionization fraction (P%Reion%fraction)\n",
        "ReionUseOpticalDepth [b:True] reionization use optical depth (P%Reion%use_optical_depth)\n",
        "tau_reion [f:0.0851] reionization optical depth (P%Reion%optical_depth)\n",
        "ScalarICMode [i:1] Scalar IC mode: 0=vector, 1=adiabatic 2=iso_CDM 3=ISO_Baryon4=ISO_neutrino, 5=iso_neutrino_vel (P%Scalar_initial_condition)\n",
        "WantScalars [b:True] use scalar (P%WantScalars)\n",
        "ScalarPowerAmp [f:2.1e-09] Scalar amp related to sigma8 but need iteration! (P%InitPower%ScalarPowerAmp)\n",
        "n_s [f:0.971] scalar index (P%InitPower%an)\n",
        "K_s [f:0] scalar running (P%InitPower%n_run)\n",
        "WantTensors [b:False] use tensor (P%WantTensors)\n",
        "n_t [f:0] tensor index (P%InitPower%ant)\n",
        "ts [f:0] tensor ratio (P%InitPower%rat)\n",
        "lAccuracyBoost [f:1.0] l accuracy boost (lAccuracyBoost)\n",
        "lSampleBoost [f:1.0] l sample boost (lSampleBoost)\n",
        "w_lam [f:-1.0] w_lam (w_lam)\n",
        "cs2_lam [f:1.0] cs2_lam (cs2_lam)\n",
        "AccuracyBoost [f:1.0] Accuracy Boost (AccuracyBoost)\n",
        "w_perturb [b:False] w_perturb (w_perturb)\n",
        "DoLensing [b:False] Do Lensing (P%DoLensing)\n",
        "\n",
        "\n"
       ]
      }
     ],
     "prompt_number": 11
    },
    {
     "cell_type": "code",
     "collapsed": false,
     "input": [
      "camb = pycamb.PyCamb(omegab=0.0464, omegac=0.235, omegav=0.7186, H0=69.7)"
     ],
     "language": "python",
     "metadata": {},
     "outputs": [],
     "prompt_number": 4
    },
    {
     "cell_type": "code",
     "collapsed": false,
     "input": [
      "for z in [159., 0.]:\n",
      "    k, p = camb.matter_power(z)\n",
      "    plot(k, p, label='CAMB WMAP9 z=%g' %z)\n",
      "loglog()\n",
      "xlabel('k $h^{-1}\\mathrm{Mpc}$')\n",
      "ylabel('p')\n",
      "legend()"
     ],
     "language": "python",
     "metadata": {},
     "outputs": [
      {
       "metadata": {},
       "output_type": "pyout",
       "prompt_number": 12,
       "text": [
        "<matplotlib.legend.Legend at 0x43477d0>"
       ]
      },
      {
       "metadata": {},
       "output_type": "display_data",
       "png": "[encoded data removed]",
       "text": [
        "<matplotlib.figure.Figure at 0x3cbdbd0>"
       ]
      }
     ],
     "prompt_number": 12
    },
    {
     "cell_type": "code",
     "collapsed": false,
     "input": [],
     "language": "python",
     "metadata": {},
     "outputs": []
    }
   ],
   "metadata": {}
  }
 ]
}